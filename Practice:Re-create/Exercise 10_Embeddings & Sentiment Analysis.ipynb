{
 "cells": [
  {
   "cell_type": "markdown",
   "metadata": {},
   "source": [
    "In this exercise, we will be extending our neural network to build a sentiment classification model. When I took my first machine learning class, our professor specialized in text data predictive modelling and taught us a wide breadth of methods to deal with feature engineering and model construction. Although Google's crash course does not touch on many of these topics, I will be (for the sake of rigor and for the readers own enjoyment). Take from it what you will as it will be sprinkled across this notebook. "
   ]
  },
  {
   "cell_type": "markdown",
   "metadata": {},
   "source": [
    "We will be using movie review data from IMDB and explore sparse data and embeddings"
   ]
  },
  {
   "cell_type": "markdown",
   "metadata": {},
   "source": [
    "### Setup"
   ]
  },
  {
   "cell_type": "code",
   "execution_count": 1,
   "metadata": {},
   "outputs": [],
   "source": [
    "from __future__ import print_function\n",
    "\n",
    "import collections\n",
    "import io\n",
    "import math\n",
    "\n",
    "import matplotlib.pyplot as plt\n",
    "\n",
    "import numpy as np\n",
    "import pandas as pd\n",
    "import tensorflow as tf\n",
    "\n",
    "from IPython import display\n",
    "from sklearn import metrics\n",
    "\n",
    "\n",
    "tf.logging.set_verbosity(tf.logging.ERROR)\n",
    "#import datasets\n",
    "train_url = 'https://dl.google.com/mlcc/mledu-datasets/sparse-data-embedding/train.tfrecord'\n",
    "train_path = tf.keras.utils.get_file(train_url.split('/')[-1], train_url)\n",
    "test_url = 'https://dl.google.com/mlcc/mledu-datasets/sparse-data-embedding/test.tfrecord'\n",
    "test_path = tf.keras.utils.get_file(test_url.split('/')[-1], test_url)\n"
   ]
  },
  {
   "cell_type": "markdown",
   "metadata": {},
   "source": [
    "### Sentiment Analysis Model & Building the Input Pipeline\n",
    "\n",
    "The purpose of the sentiment analysis model will be to predict if a given IMDB review is positive (label of 1) or negative. The question is though, how do we feed a block of text into a neural network? \n",
    "\n",
    "We do this by determining a *vocabulary* of terms (terms we want to support in the classification task), taking commonly used or informative words (this will be dataset dependent). Any terms not in our *vocabulary* are ignored. Once we have this vocabulary, we can represent a single word by an $N$ length binary fectory with exactly one $1$:\n",
    "\n",
    "$$\\text{apple} \\rightarrow [0,0,0,\\ldots,0,1,0,\\ldots,0]$$\n",
    "\n",
    "It is essentially a one-hot representation. We will be doing this when using LinearClassifier and DNN ('sparse inputs and explicit vocabulary')\n",
    "\n",
    "Now, lets configure the input pipeline to import the data into TF. The following function will parse the training & test data and return a dict of features and corresponding labels"
   ]
  },
  {
   "cell_type": "code",
   "execution_count": 2,
   "metadata": {},
   "outputs": [],
   "source": [
    "\"\"\"Extracts features and labels from training and test data\n",
    "\n",
    "    Args:\n",
    "        record: File path to TFRecord file (what we imported earlier)\n",
    "    Returns:\n",
    "        A 'tuple' (labels, features):\n",
    "            features: Dict of tensors representing features \n",
    "            labels: Tensor with corresponding label of feature (0,1)\n",
    "\"\"\"\n",
    "def _parse_function(record):\n",
    "    \n",
    "    features = {\n",
    "        #datatype of terms are variable length strings, labels are either 0 or 1. \n",
    "        \"terms\": tf.VarLenFeature(dtype=tf.string),\n",
    "        \"labels\": tf.FixedLenFeature(shape = [1], dtype = tf.float32)\n",
    "    }\n",
    "    \n",
    "    parsed_features = tf.parse_single_example(record, features)\n",
    "    \n",
    "    terms = parsed_features['terms'].values\n",
    "    labels = parsed_features['labels']\n",
    "    \n",
    "    return {'terms':terms}, labels\n",
    "    "
   ]
  },
  {
   "cell_type": "markdown",
   "metadata": {},
   "source": [
    "Lets take a look at the data to make sure the function works fine and retrieve the first example of the training data. "
   ]
  },
  {
   "cell_type": "code",
   "execution_count": 3,
   "metadata": {},
   "outputs": [
    {
     "data": {
      "text/plain": [
       "({'terms': array(['but', 'it', 'does', 'have', 'some', 'good', 'action', 'and', 'a',\n",
       "         'plot', 'that', 'is', 'somewhat', 'interesting', '.', 'nevsky',\n",
       "         'acts', 'like', 'a', 'body', 'builder', 'and', 'he', 'isn', \"'\",\n",
       "         't', 'all', 'that', 'attractive', ',', 'in', 'fact', ',', 'imo',\n",
       "         ',', 'he', 'is', 'ugly', '.', '(', 'his', 'acting', 'skills',\n",
       "         'lack', 'everything', '!', ')', 'sascha', 'is', 'played', 'very',\n",
       "         'well', 'by', 'joanna', 'pacula', ',', 'but', 'she', 'needed',\n",
       "         'more', 'lines', 'than', 'she', 'was', 'given', ',', 'her',\n",
       "         'character', 'needed', 'to', 'be', 'developed', '.', 'there',\n",
       "         'are', 'way', 'too', 'many', 'men', 'in', 'this', 'story', ',',\n",
       "         'there', 'is', 'zero', 'romance', ',', 'too', 'much', 'action',\n",
       "         ',', 'and', 'way', 'too', 'dumb', 'of', 'an', 'ending', '.', 'it',\n",
       "         'is', 'very', 'violent', '.', 'i', 'did', 'however', 'love', 'the',\n",
       "         'scenery', ',', 'this', 'movie', 'takes', 'you', 'all', 'over',\n",
       "         'the', 'world', ',', 'and', 'that', 'is', 'a', 'bonus', '.', 'i',\n",
       "         'also', 'liked', 'how', 'it', 'had', 'some', 'stuff', 'about',\n",
       "         'the', 'mafia', 'in', 'it', ',', 'not', 'too', 'much', 'or', 'too',\n",
       "         'little', ',', 'but', 'enough', 'that', 'it', 'got', 'my',\n",
       "         'attention', '.', 'the', 'actors', 'needed', 'to', 'be', 'more',\n",
       "         'handsome', '.', '.', '.', 'the', 'biggest', 'problem', 'i', 'had',\n",
       "         'was', 'that', 'nevsky', 'was', 'just', 'too', 'normal', ',',\n",
       "         'not', 'sexy', 'enough', '.', 'i', 'think', 'for', 'most', 'guys',\n",
       "         ',', 'sascha', 'will', 'be', 'hot', 'enough', ',', 'but', 'for',\n",
       "         'us', 'ladies', 'that', 'are', 'fans', 'of', 'action', ',',\n",
       "         'nevsky', 'just', 'doesn', \"'\", 't', 'cut', 'it', '.', 'overall',\n",
       "         ',', 'this', 'movie', 'was', 'fine', ',', 'i', 'didn', \"'\", 't',\n",
       "         'love', 'it', 'nor', 'did', 'i', 'hate', 'it', ',', 'just',\n",
       "         'found', 'it', 'to', 'be', 'another', 'normal', 'action', 'flick',\n",
       "         '.'], dtype=object)}, array([0.], dtype=float32))"
      ]
     },
     "execution_count": 3,
     "metadata": {},
     "output_type": "execute_result"
    }
   ],
   "source": [
    "#creates dataset object\n",
    "ds = tf.data.TFRecordDataset(train_path)\n",
    "#uses the function above to extract features and labels\n",
    "ds = ds.map(_parse_function)\n",
    "ds\n",
    "\n",
    "#Receives first example from training data\n",
    "n = ds.make_one_shot_iterator().get_next()\n",
    "session = tf.Session()\n",
    "session.run(n)\n",
    "\n"
   ]
  },
  {
   "cell_type": "markdown",
   "metadata": {},
   "source": [
    "Alright, everything looks as expected. One last thing to do is build an input function to pass to TF and train our model"
   ]
  },
  {
   "cell_type": "code",
   "execution_count": 4,
   "metadata": {},
   "outputs": [],
   "source": [
    "\"\"\"Custom input function to parse the examples and split into features and targets\n",
    "\n",
    "    Args:\n",
    "        input_filenames: filepath of training data\n",
    "    Returns:\n",
    "        features: Dict of tensors representing features \n",
    "        labels: Tensor with corresponding label of feature (0,1)\n",
    "\n",
    "\"\"\"\n",
    "def _input_func(input_filenames, num_epochs = None, shuffle = True):\n",
    "    \n",
    "    #creates dataset and maps features to labels\n",
    "    ds = tf.data.TFRecordDataset(input_filenames)\n",
    "    ds = ds.map(_parse_function)\n",
    "    \n",
    "    if shuffle:\n",
    "        ds = ds.shuffle(10000)\n",
    "        \n",
    "    #pad and batch each field of dataset to whatever size necessary (since variable length strings)\n",
    "    ds = ds.padded_batch(25, ds.output_shapes)\n",
    "    ds = ds.repeat(num_epochs)\n",
    "    \n",
    "    #return next batch of data\n",
    "    features, labels = ds.make_one_shot_iterator().get_next()\n",
    "    return features, labels"
   ]
  },
  {
   "cell_type": "markdown",
   "metadata": {},
   "source": [
    "### First things first...\n",
    "\n",
    "Let's try our hand at a LinearClassifier model using 50 terms in our vocabulary listed below. This code will construct feature columns for our terms, train and evaluate our model. (NOTE: We are not usings embeddings JUST yet, we will later on in the notebook) "
   ]
  },
  {
   "cell_type": "code",
   "execution_count": 5,
   "metadata": {},
   "outputs": [],
   "source": [
    "#Our 'vocabulary' explicit terms we pass to TF using one hot encoding\n",
    "informative_terms = (\"bad\", \"great\", \"best\", \"worst\", \"fun\", \"beautiful\",\n",
    "                     \"excellent\", \"poor\", \"boring\", \"awful\", \"terrible\",\n",
    "                     \"definitely\", \"perfect\", \"liked\", \"worse\", \"waste\",\n",
    "                     \"entertaining\", \"loved\", \"unfortunately\", \"amazing\",\n",
    "                     \"enjoyed\", \"favorite\", \"horrible\", \"brilliant\", \"highly\",\n",
    "                     \"simple\", \"annoying\", \"today\", \"hilarious\", \"enjoyable\",\n",
    "                     \"dull\", \"fantastic\", \"poorly\", \"fails\", \"disappointing\",\n",
    "                     \"disappointment\", \"not\", \"him\", \"her\", \"good\", \"time\",\n",
    "                     \"?\", \".\", \"!\", \"movie\", \"film\", \"action\", \"comedy\",\n",
    "                     \"drama\", \"family\")\n",
    "\n",
    "terms_feature_column = tf.feature_column.categorical_column_with_vocabulary_list(key = \"terms\", \n",
    "                                                                                 vocabulary_list = informative_terms)"
   ]
  },
  {
   "cell_type": "code",
   "execution_count": 6,
   "metadata": {},
   "outputs": [
    {
     "name": "stdout",
     "output_type": "stream",
     "text": [
      "Training set metrics: \n",
      "loss 11.2722435\n",
      "accuracy_baseline 0.5\n",
      "global_step 1000\n",
      "recall 0.8568\n",
      "auc 0.87176853\n",
      "prediction/mean 0.5160384\n",
      "precision 0.7539599\n",
      "label/mean 0.5\n",
      "average_loss 0.45088974\n",
      "auc_precision_recall 0.861798\n",
      "accuracy 0.7886\n",
      "---\n",
      "Test set metrics:\n",
      "loss 11.280082\n",
      "accuracy_baseline 0.5\n",
      "global_step 1000\n",
      "recall 0.8516\n",
      "auc 0.8703351\n",
      "prediction/mean 0.51421326\n",
      "precision 0.7520311\n",
      "label/mean 0.5\n",
      "average_loss 0.4512033\n",
      "auc_precision_recall 0.8598566\n",
      "accuracy 0.7854\n",
      "---\n"
     ]
    }
   ],
   "source": [
    "#define optimizer and feature columns\n",
    "my_optimizer = tf.train.AdagradOptimizer(learning_rate = 0.1)\n",
    "my_optimizer = tf.contrib.estimator.clip_gradients_by_norm(my_optimizer, 5.0)\n",
    "\n",
    "feature_columns = [terms_feature_column]\n",
    "\n",
    "\n",
    "#define and train Linear classifier \n",
    "classifier = tf.estimator.LinearClassifier(\n",
    "    feature_columns = feature_columns,\n",
    "    optimizer = my_optimizer\n",
    ")\n",
    "\n",
    "classifier.train(\n",
    "    input_fn = lambda: _input_func([train_path]),\n",
    "    steps = 1000\n",
    ")\n",
    "\n",
    "\n",
    "\n",
    "#compute and print training set metrics\n",
    "evaluation_metrics = classifier.evaluate(\n",
    "    input_fn = lambda: _input_func([train_path]),\n",
    "    steps = 1000\n",
    ")\n",
    "\n",
    "print(\"Training set metrics: \")\n",
    "for m in evaluation_metrics:\n",
    "    \n",
    "    print(m,evaluation_metrics[m])\n",
    "print(\"---\")\n",
    "\n",
    "\n",
    "#compute and print test set metrics\n",
    "evaluation_metrics = classifier.evaluate(\n",
    "    input_fn = lambda: _input_func([test_path]),\n",
    "    steps = 1000\n",
    ")\n",
    "\n",
    "print(\"Test set metrics:\")\n",
    "for m in evaluation_metrics:\n",
    "    \n",
    "    print(m,evaluation_metrics[m])\n",
    "print(\"---\")\n"
   ]
  },
  {
   "cell_type": "markdown",
   "metadata": {},
   "source": [
    "78% accuracy does quite well, especially with an AUC of 0.85. \n",
    "\n",
    "### Deeper (and Stronger?)\n",
    "\n",
    "Can we do better with a DNN? "
   ]
  },
  {
   "cell_type": "code",
   "execution_count": 8,
   "metadata": {},
   "outputs": [
    {
     "name": "stdout",
     "output_type": "stream",
     "text": [
      "Training set metrics: \n",
      "loss 12.851398\n",
      "accuracy_baseline 0.64\n",
      "global_step 1000\n",
      "recall 1.0\n",
      "auc 0.86805546\n",
      "prediction/mean 0.52324325\n",
      "precision 0.6\n",
      "label/mean 0.36\n",
      "average_loss 0.51405597\n",
      "auc_precision_recall 0.7041963\n",
      "accuracy 0.76\n",
      "---\n",
      "Test set metrics:  \n",
      "loss 8.931396\n",
      "accuracy_baseline 0.52\n",
      "global_step 1000\n",
      "recall 0.84615386\n",
      "auc 0.9326923\n",
      "prediction/mean 0.5243819\n",
      "precision 0.78571427\n",
      "label/mean 0.52\n",
      "average_loss 0.35725582\n",
      "auc_precision_recall 0.93896323\n",
      "accuracy 0.8\n",
      "---\n"
     ]
    }
   ],
   "source": [
    "#define and train DNN classifier\n",
    "classifier = tf.estimator.DNNClassifier(\n",
    "    feature_columns = [tf.feature_column.indicator_column(terms_feature_column)],\n",
    "    hidden_units = [32,32],\n",
    "    optimizer = my_optimizer)\n",
    "\n",
    "try:\n",
    "    #train linear classifier \n",
    "    classifier.train(\n",
    "        input_fn = lambda: _input_func([train_path]),\n",
    "        steps = 1000\n",
    "    )\n",
    "    \n",
    "    \n",
    "    #compute and print training set metrics\n",
    "    evaluation_metrics = classifier.evaluate(\n",
    "        input_fn = lambda: _input_func([train_path]),\n",
    "        steps = 1\n",
    "    )\n",
    "    \n",
    "    print(\"Training set metrics: \")\n",
    "    for m in evaluation_metrics:\n",
    "        print(m, evaluation_metrics[m])\n",
    "    print(\"---\")\n",
    "    \n",
    "    \n",
    "    #compute and print test set metrics\n",
    "    evaluation_metrics = classifier.evaluate(\n",
    "        input_fn = lambda: _input_func([test_path]),\n",
    "        steps = 1\n",
    "    )\n",
    "    \n",
    "    print(\"Test set metrics:  \")\n",
    "    for m in evaluation_metrics:\n",
    "        print(m, evaluation_metrics[m])\n",
    "    print(\"---\")\n",
    "except ValueError as err:\n",
    "    print(err)\n",
    "    "
   ]
  },
  {
   "cell_type": "markdown",
   "metadata": {},
   "source": [
    "So we definitely do alot better using 2 hidden layers with 32 neurons in each (albeit I arrived at this solution naively). We also see a better AUC at .88 on the test set, but do note the overfitting occuring as our training set metrics are much higher than our test metrics. (Note: Since the initialization of the weighting scheme for the neural networks under using the TF.Estimator API is random, the results will not be the same run to run; in fact it is highly unlikely you will get the same results as I do). \n",
    "\n",
    "### Embeddings\n",
    "\n",
    "So, now we come to embeddings. Before moving on, I do want to spend a bit of time deconstructing what an embedding actually is and how to interpret them. \n",
    "\n",
    "The whole idea behind an embedding is to map a word as a vector in p-dimensional space (where p represents the number of embeddings we have):\n",
    "\n",
    "$$ f(\\text{word}) \\rightarrow \\mathbb{R}^p $$ \n",
    "\n",
    "The main takeaway we need to understand about embeddings is this: They provide a solution to the sparse one-hot representation we used previously. It does this by translating the sparse vectors (that we constructed with 'vocabulary' terms) into a lower dimensional p-space in an attempt to preserve semantic relationships. Lets see what I mean with a simple example below. \n",
    "\n",
    "#### Simple Example\n",
    "\n",
    "Let's assume that we have the following word embeddings:\n",
    "\n",
    "$$ \\begin{align}\n",
    "\\text{the} &\\rightarrow [1,0,0] \\\\\n",
    "\\text{cat} &\\rightarrow [0,0.9,0]  \\\\\n",
    "\\text{is} &\\rightarrow [0.8,0,0]  \\\\\n",
    "\\text{in} &\\rightarrow [0.8,0,0]  \\\\\n",
    "\\text{and} &\\rightarrow [1,0,0]  \\\\\n",
    "\\text{hat} &\\rightarrow [0,0,0.75] \\\\\n",
    "\\text{sweater} &\\rightarrow [0,0,0.9]\n",
    "\\end{align}$$\n",
    "\n",
    "In this example we have a three-dimensional embedding; the first\n",
    "component indicates whether this a common function word (article,\n",
    "preposition, conj, etc.), the second whether its an animal, and the\n",
    "third whether it is an article of clothing. We would map the\n",
    "sentence:\n",
    "\n",
    "- \"The cat is in the hat and sweater\"\n",
    "\n",
    "To the array:\n",
    "\n",
    "$$ \\left[\\begin{array}{ccc} 1 & 0 & 0 \\\\\n",
    "                            0 & 0.9 & 0 \\\\\n",
    "                            0.8 & 0 & 0 \\\\\n",
    "                            0.8 & 0 & 0 \\\\\n",
    "                            1 & 0 & 0 \\\\\n",
    "                            0 & 0 & 0.75 \\\\\n",
    "                            1 & 0 & 0 \\\\\n",
    "                            0 & 0 & 0.9\n",
    "                      \\end{array}\\right] $$\n",
    "\n",
    "Now I'm sure you must be asking, \"This seems great and all, we managed to avoid the curse of dimensionality, but how the **f#ck** did you get these embeddings?\" Well, theres a couple of ways to automate this process. We can use PCA, word2vec, or better yet, pass our feature columns to Tensorflow's `embedding_column` so it'll do it for us automatically. \n",
    "\n",
    "Using an `embedding_column` is usually the computationally most efficient way to train a model on sparse data but there is something called an `indicator_column` we can also use that I will explore at the end of the exercise (for those interested). \n",
    "\n",
    "Below, we define our features using an `embedding_column` and run a similar DNNClassifier to the one above. "
   ]
  },
  {
   "cell_type": "code",
   "execution_count": 28,
   "metadata": {
    "scrolled": true
   },
   "outputs": [
    {
     "name": "stdout",
     "output_type": "stream",
     "text": [
      "Training set metrics: \n",
      "loss 11.381119\n",
      "accuracy_baseline 0.5\n",
      "global_step 1000\n",
      "recall 0.7856\n",
      "auc 0.86741364\n",
      "prediction/mean 0.4843794\n",
      "precision 0.7857257\n",
      "label/mean 0.5\n",
      "average_loss 0.45524478\n",
      "auc_precision_recall 0.8561074\n",
      "accuracy 0.78568\n",
      "---\n",
      "Test set metrics: \n",
      "loss 11.402009\n",
      "accuracy_baseline 0.5\n",
      "global_step 1000\n",
      "recall 0.77912\n",
      "auc 0.8668744\n",
      "prediction/mean 0.48337987\n",
      "precision 0.78477037\n",
      "label/mean 0.5\n",
      "average_loss 0.45608035\n",
      "auc_precision_recall 0.85391784\n",
      "accuracy 0.78272\n",
      "---\n"
     ]
    }
   ],
   "source": [
    "#Tells TF to reduce the dimensionality of our terms_feature_column vectors to \n",
    "    #2 for each entry/word in our IMDB review\n",
    "terms_embedding_column = tf.feature_column.embedding_column(terms_feature_column, dimension = 2)\n",
    "feature_columns = [terms_embedding_column]\n",
    "\n",
    "my_optimizer = tf.train.AdagradOptimizer(learning_rate = 0.1)\n",
    "my_optimizer = tf.contrib.estimator.clip_gradients_by_norm(my_optimizer, 5.0)\n",
    "\n",
    "classifier = tf.estimator.DNNClassifier(\n",
    "    feature_columns = feature_columns,\n",
    "    hidden_units = [20,20],\n",
    "    optimizer = my_optimizer)\n",
    "\n",
    "#Train and evaluate training set metrics\n",
    "classifier.train(\n",
    "    input_fn = lambda: _input_func([train_path]),\n",
    "    steps = 1000)\n",
    "\n",
    "evaluation_metrics_train = classifier.evaluate(\n",
    "    input_fn = lambda: _input_func([train_path]),\n",
    "    steps = 1000)\n",
    "\n",
    "print (\"Training set metrics: \")\n",
    "for m in evaluation_metrics_train:\n",
    "    print(m, evaluation_metrics_train[m])\n",
    "print(\"---\")\n",
    "\n",
    "#apply model to test set\n",
    "\n",
    "evaluation_metrics_test = classifier.evaluate(\n",
    "    input_fn = lambda: _input_func([test_path]),\n",
    "    steps = 1000)\n",
    "\n",
    "print(\"Test set metrics: \")\n",
    "for m in evaluation_metrics_test:\n",
    "    print(m, evaluation_metrics_test[m])\n",
    "print(\"---\")\n",
    "\n",
    "\n"
   ]
  },
  {
   "cell_type": "markdown",
   "metadata": {},
   "source": [
    "So, we actually do pretty similar to our baseline DNN model based on our embeddings. But, we still want to find out whats going on internally. I do that below by taking a look at the tensors in the model. "
   ]
  },
  {
   "cell_type": "code",
   "execution_count": 11,
   "metadata": {},
   "outputs": [
    {
     "data": {
      "text/plain": [
       "['dnn/hiddenlayer_0/bias',\n",
       " 'dnn/hiddenlayer_0/bias/t_0/Adagrad',\n",
       " 'dnn/hiddenlayer_0/kernel',\n",
       " 'dnn/hiddenlayer_0/kernel/t_0/Adagrad',\n",
       " 'dnn/hiddenlayer_1/bias',\n",
       " 'dnn/hiddenlayer_1/bias/t_0/Adagrad',\n",
       " 'dnn/hiddenlayer_1/kernel',\n",
       " 'dnn/hiddenlayer_1/kernel/t_0/Adagrad',\n",
       " 'dnn/input_from_feature_columns/input_layer/terms_embedding/embedding_weights',\n",
       " 'dnn/input_from_feature_columns/input_layer/terms_embedding/embedding_weights/t_0/Adagrad',\n",
       " 'dnn/logits/bias',\n",
       " 'dnn/logits/bias/t_0/Adagrad',\n",
       " 'dnn/logits/kernel',\n",
       " 'dnn/logits/kernel/t_0/Adagrad',\n",
       " 'global_step']"
      ]
     },
     "execution_count": 11,
     "metadata": {},
     "output_type": "execute_result"
    }
   ],
   "source": [
    "classifier.get_variable_names()"
   ]
  },
  {
   "cell_type": "markdown",
   "metadata": {},
   "source": [
    "Above, we can get a better idea of what our neural network actually looks like (this should look really familiar to you keras users). We have an embedding layer that is trainable, just like any other hidden layer is. Is this layer the right dimension though?\n",
    "\n",
    "We should expect to condense a 50 dimensional matrix into 2 dimensions like we specified above. "
   ]
  },
  {
   "cell_type": "code",
   "execution_count": 12,
   "metadata": {},
   "outputs": [
    {
     "data": {
      "text/plain": [
       "(50, 2)"
      ]
     },
     "execution_count": 12,
     "metadata": {},
     "output_type": "execute_result"
    }
   ],
   "source": [
    "classifier.get_variable_value('dnn/input_from_feature_columns/input_layer/terms_embedding/embedding_weights').shape"
   ]
  },
  {
   "cell_type": "markdown",
   "metadata": {},
   "source": [
    "If the results of the model are a bit irregular or prone to massive accuracy changes run to run, its always a good idea to manually check the shape of each layer to make sure everything is connected as expected. "
   ]
  },
  {
   "cell_type": "markdown",
   "metadata": {},
   "source": [
    "### Visualizing our Embedding"
   ]
  },
  {
   "cell_type": "markdown",
   "metadata": {},
   "source": [
    "Now lets take a look at the actual embedding space and take a gander at where specific terms end up. The code below takes a look at the embedding we trained in the model above. The reason we're able to do this is because we collapsed our vector space into 2 dimensions, making it easy to graph. "
   ]
  },
  {
   "cell_type": "code",
   "execution_count": 29,
   "metadata": {},
   "outputs": [
    {
     "data": {
      "image/png": "[encoded data removed]",
      "text/plain": [
       "<Figure size 1080x1080 with 1 Axes>"
      ]
     },
     "metadata": {
      "needs_background": "light"
     },
     "output_type": "display_data"
    }
   ],
   "source": [
    "embedding_matrix = classifier.get_variable_value('dnn/input_from_feature_columns/input_layer/terms_embedding/embedding_weights')\n",
    "\n",
    "for index in range(len(informative_terms)):\n",
    "    \n",
    "    #Creates one hot encoding for our term \n",
    "    term_vector = np.zeros(len(informative_terms))\n",
    "    term_vector[index] = 1\n",
    "    \n",
    "    #project one hot encoding into embedding space\n",
    "    embedding_xy = np.matmul(term_vector, embedding_matrix)\n",
    "    \n",
    "    plt.text(embedding_xy[0],\n",
    "             embedding_xy[1],\n",
    "             informative_terms[index])\n",
    "    \n",
    "#rescale plot\n",
    "plt.rcParams[\"figure.figsize\"] = (15,15)\n",
    "plt.xlim(1.2*embedding_matrix.min(), 1.2*embedding_matrix.max())\n",
    "plt.ylim(1.2*embedding_matrix.min(), 1.2*embedding_matrix.max())\n",
    "plt.show()"
   ]
  },
  {
   "cell_type": "markdown",
   "metadata": {},
   "source": [
    "So, at first glance, we can see a marked difference in words that connote bad meanings and words that connote good meanings that our embeddings have naturally captured the meaning of using just 2 dimensions. \n",
    "\n",
    "But note that if we run the model again, we may not get the same distribution of words along these 2 dimensions. What I mean to say is, from run to run, the exact locations of negative and positive words are unlikely to stay in the same areas. Since we are dealing with an unsupervised learner here, all it tries to do is seperate the vector space according to the characteristics of the words. The **way** it seperates these words however is random.  "
   ]
  },
  {
   "cell_type": "markdown",
   "metadata": {},
   "source": [
    "### Final Exercises & Thoughts"
   ]
  },
  {
   "cell_type": "markdown",
   "metadata": {},
   "source": [
    "This goes without saying but there are ways for the embedding model to be drastically improved. We can change the hyperparameters (such as the learning rate, hidden layer nodes or change the optimizer) but this is likely to only help our accuracy ever so slightly. \n",
    "\n",
    "Additionally, we can use the full list of informative terms instead just the 50 listed above. You can find the list [here]. (https://dl.google.com/mlcc/mledu-datasets/sparse-data-embedding/terms.txt)\n",
    " "
   ]
  },
  {
   "cell_type": "markdown",
   "metadata": {},
   "source": [
    "So, you may have gotten(and probably did get) a DNN model that worked better than the linear model but do keep in mind scaling the problem up in size. Our linear model worked alot quicker, which may be sufficient depending on our use case. \n",
    "\n",
    "Its important to understand the applications and speed of the model architecture so we can pick a model that suits are needs. "
   ]
  },
  {
   "cell_type": "markdown",
   "metadata": {},
   "source": [
    "### Embedding vs. Indicator Column "
   ]
  },
  {
   "cell_type": "code",
   "execution_count": null,
   "metadata": {},
   "outputs": [],
   "source": []
  }
 ],
 "metadata": {
  "kernelspec": {
   "display_name": "Python 2",
   "language": "python",
   "name": "python2"
  },
  "language_info": {
   "codemirror_mode": {
    "name": "ipython",
    "version": 2
   },
   "file_extension": ".py",
   "mimetype": "text/x-python",
   "name": "python",
   "nbconvert_exporter": "python",
   "pygments_lexer": "ipython2",
   "version": "2.7.15"
  }
 },
 "nbformat": 4,
 "nbformat_minor": 2
}
