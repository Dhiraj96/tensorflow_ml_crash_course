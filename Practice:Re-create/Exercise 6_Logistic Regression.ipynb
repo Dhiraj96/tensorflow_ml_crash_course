{
 "cells": [
  {
   "cell_type": "markdown",
   "metadata": {},
   "source": [
    "The purpose of this exercise will be to reframe the median house value problem we have been exploring as a binary classification problem and learn the mechanics of developing a logistic regression model in TF. We will then compare the effectiveness of logistic regression and classical linear regression for this problem. "
   ]
  },
  {
   "cell_type": "markdown",
   "metadata": {},
   "source": [
    "Lets start by framing our continuous linear regression problem as a classification problem. We wish to predict if a particular city block is a high cost city block. We set our classification threshold as 75th percentile for median house value (approx. $265,000). If the value is above this value, we label it as a 1 and 0 otherwise.\n",
    "\n",
    "Just to be clear, this classification threshold was chosen quite arbitrarily (seemed like a good amount). "
   ]
  },
  {
   "cell_type": "code",
   "execution_count": 1,
   "metadata": {},
   "outputs": [],
   "source": [
    "#to bring print function from later versions of python into this one\n",
    "from __future__ import print_function\n",
    "import math\n",
    "from IPython import display\n",
    "\n",
    "#for data visualization & interaction\n",
    "from matplotlib import cm\n",
    "from matplotlib import gridspec\n",
    "from matplotlib import pyplot as plt\n",
    "\n",
    "#support for higher dimensional objects in data manipulation\n",
    "import numpy as np\n",
    "import pandas as pd\n",
    "from sklearn import metrics\n",
    "\n",
    "\n",
    "import tensorflow as tf\n",
    "from tensorflow.python.data import Dataset\n",
    "\n",
    "tf.logging.set_verbosity(tf.logging.ERROR)\n",
    "\n",
    "#so we are not flooded with output anytime we print out the results\n",
    "pd.options.display.max_rows = 10\n",
    "pd.options.display.float_format = '{:.1f}'.format\n",
    "\n",
    "california_housing_dataframe = pd.read_csv(\"https://dl.google.com/mlcc/mledu-datasets/california_housing_train.csv\", sep=\",\")\n",
    "\n",
    "#DONT FORGET TO RANDOMIZE THE DATA!\n",
    "california_housing_dataframe = california_housing_dataframe.reindex(\n",
    "    np.random.permutation(california_housing_dataframe.index))\n",
    "\n"
   ]
  },
  {
   "cell_type": "code",
   "execution_count": 2,
   "metadata": {},
   "outputs": [],
   "source": [
    "\"\"\"Pre-processes input features from California Housing Dataset\n",
    "    Args:\n",
    "        california_housing_dataframe: A pandas dataframe with\n",
    "        data from the California Housing Dataset\n",
    "    Returns:\n",
    "        A dataframe containing the features to be used for the model\n",
    "        including synthetic features\n",
    "\n",
    "\"\"\"\n",
    "def preprocess_features(california_housing_dataframe):\n",
    "    \n",
    "    selected_features = california_housing_dataframe[[\n",
    "        \"latitude\",\n",
    "        \"longitude\",\n",
    "        \"housing_median_age\",\n",
    "        \"total_rooms\",\n",
    "        \"total_bedrooms\",\n",
    "        \"population\",\n",
    "        \"households\",\n",
    "        \"median_income\"\n",
    "    ]]\n",
    "    \n",
    "    processed_features = selected_features.copy()\n",
    "    \n",
    "    processed_features[\"rooms_per_person\"] = (\n",
    "        california_housing_dataframe[\"total_rooms\"]/\n",
    "        california_housing_dataframe[\"population\"])\n",
    "    \n",
    "    return processed_features\n",
    "\n",
    "\n",
    "\"\"\" Prepare target features or labels\n",
    "    Args:\n",
    "        california_housing_dataframe: A pandas dataframe with\n",
    "        data from the California Housing Dataset\n",
    "    Returns:\n",
    "        A pandas dataframe containing target features\n",
    "\n",
    "\"\"\"\n",
    "def preprocess_targets(california_housing_dataframe):\n",
    "\n",
    "    output_targets = pd.DataFrame()\n",
    "    #essentially, fill column with boolean then casting to a float 1,0 (automatic cast for booleans)\n",
    "    output_targets[\"median_house_value_is_high\"] = (\n",
    "        california_housing_dataframe[\"median_house_value\"] > 265000).astype(float)\n",
    "    \n",
    "    return output_targets\n",
    "\n",
    "\n"
   ]
  },
  {
   "cell_type": "markdown",
   "metadata": {},
   "source": [
    "Once again, we split the training and validation examples in the following code block:"
   ]
  },
  {
   "cell_type": "code",
   "execution_count": 3,
   "metadata": {},
   "outputs": [
    {
     "name": "stdout",
     "output_type": "stream",
     "text": [
      "Training examples summary\n"
     ]
    },
    {
     "data": {
      "text/html": [
       "<div>\n",
       "<style scoped>\n",
       "    .dataframe tbody tr th:only-of-type {\n",
       "        vertical-align: middle;\n",
       "    }\n",
       "\n",
       "    .dataframe tbody tr th {\n",
       "        vertical-align: top;\n",
       "    }\n",
       "\n",
       "    .dataframe thead th {\n",
       "        text-align: right;\n",
       "    }\n",
       "</style>\n",
       "<table border=\"1\" class=\"dataframe\">\n",
       "  <thead>\n",
       "    <tr style=\"text-align: right;\">\n",
       "      <th></th>\n",
       "      <th>latitude</th>\n",
       "      <th>longitude</th>\n",
       "      <th>housing_median_age</th>\n",
       "      <th>total_rooms</th>\n",
       "      <th>total_bedrooms</th>\n",
       "      <th>population</th>\n",
       "      <th>households</th>\n",
       "      <th>median_income</th>\n",
       "      <th>rooms_per_person</th>\n",
       "    </tr>\n",
       "  </thead>\n",
       "  <tbody>\n",
       "    <tr>\n",
       "      <th>count</th>\n",
       "      <td>12000.0</td>\n",
       "      <td>12000.0</td>\n",
       "      <td>12000.0</td>\n",
       "      <td>12000.0</td>\n",
       "      <td>12000.0</td>\n",
       "      <td>12000.0</td>\n",
       "      <td>12000.0</td>\n",
       "      <td>12000.0</td>\n",
       "      <td>12000.0</td>\n",
       "    </tr>\n",
       "    <tr>\n",
       "      <th>mean</th>\n",
       "      <td>35.6</td>\n",
       "      <td>-119.6</td>\n",
       "      <td>28.5</td>\n",
       "      <td>2656.0</td>\n",
       "      <td>541.4</td>\n",
       "      <td>1431.6</td>\n",
       "      <td>502.9</td>\n",
       "      <td>3.9</td>\n",
       "      <td>2.0</td>\n",
       "    </tr>\n",
       "    <tr>\n",
       "      <th>std</th>\n",
       "      <td>2.1</td>\n",
       "      <td>2.0</td>\n",
       "      <td>12.6</td>\n",
       "      <td>2208.7</td>\n",
       "      <td>427.2</td>\n",
       "      <td>1154.6</td>\n",
       "      <td>390.3</td>\n",
       "      <td>1.9</td>\n",
       "      <td>1.2</td>\n",
       "    </tr>\n",
       "    <tr>\n",
       "      <th>min</th>\n",
       "      <td>32.5</td>\n",
       "      <td>-124.3</td>\n",
       "      <td>1.0</td>\n",
       "      <td>2.0</td>\n",
       "      <td>2.0</td>\n",
       "      <td>3.0</td>\n",
       "      <td>2.0</td>\n",
       "      <td>0.5</td>\n",
       "      <td>0.0</td>\n",
       "    </tr>\n",
       "    <tr>\n",
       "      <th>25%</th>\n",
       "      <td>33.9</td>\n",
       "      <td>-121.8</td>\n",
       "      <td>18.0</td>\n",
       "      <td>1460.0</td>\n",
       "      <td>296.0</td>\n",
       "      <td>791.0</td>\n",
       "      <td>282.0</td>\n",
       "      <td>2.6</td>\n",
       "      <td>1.5</td>\n",
       "    </tr>\n",
       "    <tr>\n",
       "      <th>50%</th>\n",
       "      <td>34.2</td>\n",
       "      <td>-118.5</td>\n",
       "      <td>29.0</td>\n",
       "      <td>2127.0</td>\n",
       "      <td>433.0</td>\n",
       "      <td>1165.0</td>\n",
       "      <td>408.0</td>\n",
       "      <td>3.5</td>\n",
       "      <td>1.9</td>\n",
       "    </tr>\n",
       "    <tr>\n",
       "      <th>75%</th>\n",
       "      <td>37.7</td>\n",
       "      <td>-118.0</td>\n",
       "      <td>37.0</td>\n",
       "      <td>3162.2</td>\n",
       "      <td>651.2</td>\n",
       "      <td>1717.0</td>\n",
       "      <td>607.0</td>\n",
       "      <td>4.8</td>\n",
       "      <td>2.3</td>\n",
       "    </tr>\n",
       "    <tr>\n",
       "      <th>max</th>\n",
       "      <td>42.0</td>\n",
       "      <td>-114.6</td>\n",
       "      <td>52.0</td>\n",
       "      <td>37937.0</td>\n",
       "      <td>5471.0</td>\n",
       "      <td>35682.0</td>\n",
       "      <td>5189.0</td>\n",
       "      <td>15.0</td>\n",
       "      <td>55.2</td>\n",
       "    </tr>\n",
       "  </tbody>\n",
       "</table>\n",
       "</div>"
      ],
      "text/plain": [
       "       latitude  longitude  housing_median_age  total_rooms  total_bedrooms  \\\n",
       "count   12000.0    12000.0             12000.0      12000.0         12000.0   \n",
       "mean       35.6     -119.6                28.5       2656.0           541.4   \n",
       "std         2.1        2.0                12.6       2208.7           427.2   \n",
       "min        32.5     -124.3                 1.0          2.0             2.0   \n",
       "25%        33.9     -121.8                18.0       1460.0           296.0   \n",
       "50%        34.2     -118.5                29.0       2127.0           433.0   \n",
       "75%        37.7     -118.0                37.0       3162.2           651.2   \n",
       "max        42.0     -114.6                52.0      37937.0          5471.0   \n",
       "\n",
       "       population  households  median_income  rooms_per_person  \n",
       "count     12000.0     12000.0        12000.0           12000.0  \n",
       "mean       1431.6       502.9            3.9               2.0  \n",
       "std        1154.6       390.3            1.9               1.2  \n",
       "min           3.0         2.0            0.5               0.0  \n",
       "25%         791.0       282.0            2.6               1.5  \n",
       "50%        1165.0       408.0            3.5               1.9  \n",
       "75%        1717.0       607.0            4.8               2.3  \n",
       "max       35682.0      5189.0           15.0              55.2  "
      ]
     },
     "metadata": {},
     "output_type": "display_data"
    },
    {
     "name": "stdout",
     "output_type": "stream",
     "text": [
      "Validation examples summary\n"
     ]
    },
    {
     "data": {
      "text/html": [
       "<div>\n",
       "<style scoped>\n",
       "    .dataframe tbody tr th:only-of-type {\n",
       "        vertical-align: middle;\n",
       "    }\n",
       "\n",
       "    .dataframe tbody tr th {\n",
       "        vertical-align: top;\n",
       "    }\n",
       "\n",
       "    .dataframe thead th {\n",
       "        text-align: right;\n",
       "    }\n",
       "</style>\n",
       "<table border=\"1\" class=\"dataframe\">\n",
       "  <thead>\n",
       "    <tr style=\"text-align: right;\">\n",
       "      <th></th>\n",
       "      <th>latitude</th>\n",
       "      <th>longitude</th>\n",
       "      <th>housing_median_age</th>\n",
       "      <th>total_rooms</th>\n",
       "      <th>total_bedrooms</th>\n",
       "      <th>population</th>\n",
       "      <th>households</th>\n",
       "      <th>median_income</th>\n",
       "      <th>rooms_per_person</th>\n",
       "    </tr>\n",
       "  </thead>\n",
       "  <tbody>\n",
       "    <tr>\n",
       "      <th>count</th>\n",
       "      <td>5000.0</td>\n",
       "      <td>5000.0</td>\n",
       "      <td>5000.0</td>\n",
       "      <td>5000.0</td>\n",
       "      <td>5000.0</td>\n",
       "      <td>5000.0</td>\n",
       "      <td>5000.0</td>\n",
       "      <td>5000.0</td>\n",
       "      <td>5000.0</td>\n",
       "    </tr>\n",
       "    <tr>\n",
       "      <th>mean</th>\n",
       "      <td>35.6</td>\n",
       "      <td>-119.5</td>\n",
       "      <td>28.9</td>\n",
       "      <td>2614.0</td>\n",
       "      <td>534.7</td>\n",
       "      <td>1424.8</td>\n",
       "      <td>497.1</td>\n",
       "      <td>3.9</td>\n",
       "      <td>2.0</td>\n",
       "    </tr>\n",
       "    <tr>\n",
       "      <th>std</th>\n",
       "      <td>2.1</td>\n",
       "      <td>2.0</td>\n",
       "      <td>12.6</td>\n",
       "      <td>2109.3</td>\n",
       "      <td>407.5</td>\n",
       "      <td>1131.7</td>\n",
       "      <td>370.2</td>\n",
       "      <td>1.9</td>\n",
       "      <td>1.0</td>\n",
       "    </tr>\n",
       "    <tr>\n",
       "      <th>min</th>\n",
       "      <td>32.5</td>\n",
       "      <td>-124.3</td>\n",
       "      <td>2.0</td>\n",
       "      <td>8.0</td>\n",
       "      <td>1.0</td>\n",
       "      <td>8.0</td>\n",
       "      <td>1.0</td>\n",
       "      <td>0.5</td>\n",
       "      <td>0.1</td>\n",
       "    </tr>\n",
       "    <tr>\n",
       "      <th>25%</th>\n",
       "      <td>33.9</td>\n",
       "      <td>-121.8</td>\n",
       "      <td>18.0</td>\n",
       "      <td>1467.0</td>\n",
       "      <td>299.0</td>\n",
       "      <td>786.8</td>\n",
       "      <td>282.0</td>\n",
       "      <td>2.6</td>\n",
       "      <td>1.5</td>\n",
       "    </tr>\n",
       "    <tr>\n",
       "      <th>50%</th>\n",
       "      <td>34.2</td>\n",
       "      <td>-118.5</td>\n",
       "      <td>29.0</td>\n",
       "      <td>2129.0</td>\n",
       "      <td>435.0</td>\n",
       "      <td>1170.5</td>\n",
       "      <td>410.0</td>\n",
       "      <td>3.5</td>\n",
       "      <td>1.9</td>\n",
       "    </tr>\n",
       "    <tr>\n",
       "      <th>75%</th>\n",
       "      <td>37.7</td>\n",
       "      <td>-118.0</td>\n",
       "      <td>37.0</td>\n",
       "      <td>3114.2</td>\n",
       "      <td>643.0</td>\n",
       "      <td>1729.0</td>\n",
       "      <td>601.0</td>\n",
       "      <td>4.8</td>\n",
       "      <td>2.3</td>\n",
       "    </tr>\n",
       "    <tr>\n",
       "      <th>max</th>\n",
       "      <td>41.8</td>\n",
       "      <td>-114.3</td>\n",
       "      <td>52.0</td>\n",
       "      <td>32627.0</td>\n",
       "      <td>6445.0</td>\n",
       "      <td>28566.0</td>\n",
       "      <td>6082.0</td>\n",
       "      <td>15.0</td>\n",
       "      <td>41.3</td>\n",
       "    </tr>\n",
       "  </tbody>\n",
       "</table>\n",
       "</div>"
      ],
      "text/plain": [
       "       latitude  longitude  housing_median_age  total_rooms  total_bedrooms  \\\n",
       "count    5000.0     5000.0              5000.0       5000.0          5000.0   \n",
       "mean       35.6     -119.5                28.9       2614.0           534.7   \n",
       "std         2.1        2.0                12.6       2109.3           407.5   \n",
       "min        32.5     -124.3                 2.0          8.0             1.0   \n",
       "25%        33.9     -121.8                18.0       1467.0           299.0   \n",
       "50%        34.2     -118.5                29.0       2129.0           435.0   \n",
       "75%        37.7     -118.0                37.0       3114.2           643.0   \n",
       "max        41.8     -114.3                52.0      32627.0          6445.0   \n",
       "\n",
       "       population  households  median_income  rooms_per_person  \n",
       "count      5000.0      5000.0         5000.0            5000.0  \n",
       "mean       1424.8       497.1            3.9               2.0  \n",
       "std        1131.7       370.2            1.9               1.0  \n",
       "min           8.0         1.0            0.5               0.1  \n",
       "25%         786.8       282.0            2.6               1.5  \n",
       "50%        1170.5       410.0            3.5               1.9  \n",
       "75%        1729.0       601.0            4.8               2.3  \n",
       "max       28566.0      6082.0           15.0              41.3  "
      ]
     },
     "metadata": {},
     "output_type": "display_data"
    },
    {
     "name": "stdout",
     "output_type": "stream",
     "text": [
      "Training targets summary\n"
     ]
    },
    {
     "data": {
      "text/html": [
       "<div>\n",
       "<style scoped>\n",
       "    .dataframe tbody tr th:only-of-type {\n",
       "        vertical-align: middle;\n",
       "    }\n",
       "\n",
       "    .dataframe tbody tr th {\n",
       "        vertical-align: top;\n",
       "    }\n",
       "\n",
       "    .dataframe thead th {\n",
       "        text-align: right;\n",
       "    }\n",
       "</style>\n",
       "<table border=\"1\" class=\"dataframe\">\n",
       "  <thead>\n",
       "    <tr style=\"text-align: right;\">\n",
       "      <th></th>\n",
       "      <th>median_house_value_is_high</th>\n",
       "    </tr>\n",
       "  </thead>\n",
       "  <tbody>\n",
       "    <tr>\n",
       "      <th>count</th>\n",
       "      <td>12000.0</td>\n",
       "    </tr>\n",
       "    <tr>\n",
       "      <th>mean</th>\n",
       "      <td>0.2</td>\n",
       "    </tr>\n",
       "    <tr>\n",
       "      <th>std</th>\n",
       "      <td>0.4</td>\n",
       "    </tr>\n",
       "    <tr>\n",
       "      <th>min</th>\n",
       "      <td>0.0</td>\n",
       "    </tr>\n",
       "    <tr>\n",
       "      <th>25%</th>\n",
       "      <td>0.0</td>\n",
       "    </tr>\n",
       "    <tr>\n",
       "      <th>50%</th>\n",
       "      <td>0.0</td>\n",
       "    </tr>\n",
       "    <tr>\n",
       "      <th>75%</th>\n",
       "      <td>0.0</td>\n",
       "    </tr>\n",
       "    <tr>\n",
       "      <th>max</th>\n",
       "      <td>1.0</td>\n",
       "    </tr>\n",
       "  </tbody>\n",
       "</table>\n",
       "</div>"
      ],
      "text/plain": [
       "       median_house_value_is_high\n",
       "count                     12000.0\n",
       "mean                          0.2\n",
       "std                           0.4\n",
       "min                           0.0\n",
       "25%                           0.0\n",
       "50%                           0.0\n",
       "75%                           0.0\n",
       "max                           1.0"
      ]
     },
     "metadata": {},
     "output_type": "display_data"
    },
    {
     "name": "stdout",
     "output_type": "stream",
     "text": [
      "Validation targets summary\n"
     ]
    },
    {
     "data": {
      "text/html": [
       "<div>\n",
       "<style scoped>\n",
       "    .dataframe tbody tr th:only-of-type {\n",
       "        vertical-align: middle;\n",
       "    }\n",
       "\n",
       "    .dataframe tbody tr th {\n",
       "        vertical-align: top;\n",
       "    }\n",
       "\n",
       "    .dataframe thead th {\n",
       "        text-align: right;\n",
       "    }\n",
       "</style>\n",
       "<table border=\"1\" class=\"dataframe\">\n",
       "  <thead>\n",
       "    <tr style=\"text-align: right;\">\n",
       "      <th></th>\n",
       "      <th>median_house_value_is_high</th>\n",
       "    </tr>\n",
       "  </thead>\n",
       "  <tbody>\n",
       "    <tr>\n",
       "      <th>count</th>\n",
       "      <td>5000.0</td>\n",
       "    </tr>\n",
       "    <tr>\n",
       "      <th>mean</th>\n",
       "      <td>0.3</td>\n",
       "    </tr>\n",
       "    <tr>\n",
       "      <th>std</th>\n",
       "      <td>0.4</td>\n",
       "    </tr>\n",
       "    <tr>\n",
       "      <th>min</th>\n",
       "      <td>0.0</td>\n",
       "    </tr>\n",
       "    <tr>\n",
       "      <th>25%</th>\n",
       "      <td>0.0</td>\n",
       "    </tr>\n",
       "    <tr>\n",
       "      <th>50%</th>\n",
       "      <td>0.0</td>\n",
       "    </tr>\n",
       "    <tr>\n",
       "      <th>75%</th>\n",
       "      <td>1.0</td>\n",
       "    </tr>\n",
       "    <tr>\n",
       "      <th>max</th>\n",
       "      <td>1.0</td>\n",
       "    </tr>\n",
       "  </tbody>\n",
       "</table>\n",
       "</div>"
      ],
      "text/plain": [
       "       median_house_value_is_high\n",
       "count                      5000.0\n",
       "mean                          0.3\n",
       "std                           0.4\n",
       "min                           0.0\n",
       "25%                           0.0\n",
       "50%                           0.0\n",
       "75%                           1.0\n",
       "max                           1.0"
      ]
     },
     "metadata": {},
     "output_type": "display_data"
    }
   ],
   "source": [
    "training_examples = preprocess_features(california_housing_dataframe.head(12000))\n",
    "training_targets = preprocess_targets(california_housing_dataframe.head(12000))\n",
    "\n",
    "validation_examples = preprocess_features(california_housing_dataframe.tail(5000))\n",
    "validation_targets = preprocess_targets(california_housing_dataframe.tail(5000))\n",
    "\n",
    "print(\"Training examples summary\")\n",
    "display.display(training_examples.describe())\n",
    "\n",
    "print(\"Validation examples summary\")\n",
    "display.display(validation_examples.describe())\n",
    "\n",
    "print(\"Training targets summary\")\n",
    "display.display(training_targets.describe())\n",
    "\n",
    "print(\"Validation targets summary\")\n",
    "display.display(validation_targets.describe())"
   ]
  },
  {
   "cell_type": "markdown",
   "metadata": {},
   "source": [
    "Everything looks good. Now lets take a look at applying an ordinary linear regression model to our classification problem. It will use the labels {0,1} in the feature data and try to predict a continuous value as close as possible to either 0,1. Then we can apply a threshold of 0.5 to determine the label as 0,1.\n",
    "\n",
    "The following cells will create and train our linear regressor model (as we have done in previous exercises)"
   ]
  },
  {
   "cell_type": "code",
   "execution_count": 4,
   "metadata": {},
   "outputs": [],
   "source": [
    "\"\"\"Construct TF feature columns\n",
    "\n",
    "    Args:\n",
    "        input_features: Names of input features to use\n",
    "    Returns: \n",
    "        set of feature columns\n",
    "\n",
    "\"\"\"\n",
    "def construct_feature_columns(input_features):\n",
    "    \n",
    "    return set([tf.feature_column.numeric_column(my_feature)\n",
    "               for my_feature in input_features])\n",
    "    "
   ]
  },
  {
   "cell_type": "code",
   "execution_count": 5,
   "metadata": {},
   "outputs": [],
   "source": [
    "\"\"\"Trains a linear regression model.\n",
    "    Args: \n",
    "        features: pandas DataFrame of features\n",
    "        targets: pandas DataFrame of targets\n",
    "        batch_size: Int size of batches to be passed to the model\n",
    "        shuffle: Boolean of whether to shuffle the data\n",
    "        epochs: Int Number of epochs for which data should be repeated.\n",
    "            default value = None\n",
    "    Returns:\n",
    "        Tuple of (features, labels) for the next data batch\n",
    "    \n",
    "\"\"\" \n",
    "def my_input_func(features, targets, batch_size = 1, shuffle = True, num_epochs = None):\n",
    "    \n",
    "    #converts pandas data into a dict of numpy arrays\n",
    "    features = {key:np.array(value) for key,value in dict(features).items()}\n",
    "    \n",
    "    #constructs dataset and configures batching/repeating\n",
    "    ds = Dataset.from_tensor_slices((features, targets))\n",
    "    ds = ds.batch(batch_size).repeat(num_epochs)\n",
    "    \n",
    "    #shuffle data, if specified by user\n",
    "    if shuffle:\n",
    "        ds = ds.shuffle(10000)\n",
    "    \n",
    "    #return next batch of data\n",
    "    features, labels = ds.make_one_shot_iterator().get_next()\n",
    "    \n",
    "    return features, labels"
   ]
  },
  {
   "cell_type": "code",
   "execution_count": 23,
   "metadata": {},
   "outputs": [],
   "source": [
    "\"\"\"This function trains a linear regression model of multiple features\n",
    "\n",
    "    Args:\n",
    "        learning_rate: A 'float', learning rate\n",
    "        steps: A non-zero 'int', total training steps taken (each step is forward\n",
    "            and backward pass using single batch)\n",
    "        batch_size: A non-zero 'int', the batch size\n",
    "        training_examples: A `DataFrame` containing one or more columns from\n",
    "            `california_housing_dataframe` to use as input features for training.\n",
    "        training_targets: A `DataFrame` containing exactly one column from\n",
    "            `california_housing_dataframe` to use as target for training.\n",
    "        validation_examples: A `DataFrame` containing one or more columns from\n",
    "            `california_housing_dataframe` to use as input features for validation.\n",
    "        validation_targets: A `DataFrame` containing exactly one column from\n",
    "            `california_housing_dataframe` to use as target for validation.\n",
    "            \n",
    "    Returns:\n",
    "        A LinearRegressor object trained on training data\n",
    "        Plots RMSE value at each training period step \n",
    "\n",
    "\"\"\"\n",
    "def train_linear_regressor_model(learning_rate, steps, batch_size, training_examples, \n",
    "                                training_targets, validation_examples, validation_targets):\n",
    "    \n",
    "    periods = 10\n",
    "    steps_per_period = steps / periods\n",
    "    \n",
    "    #creating linear regressor object\n",
    "    my_optimizer = tf.train.GradientDescentOptimizer(learning_rate = learning_rate)\n",
    "    my_optimizer = tf.contrib.estimator.clip_gradients_by_norm(my_optimizer, 5.0)\n",
    "    \n",
    "    linear_regressor = tf.estimator.LinearRegressor(\n",
    "        feature_columns = construct_feature_columns(training_examples),\n",
    "        optimizer = my_optimizer)\n",
    "    \n",
    "    #create input functions\n",
    "    training_input_func = lambda:my_input_func(training_examples, \n",
    "                                               training_targets[\"median_house_value_is_high\"],\n",
    "                                               batch_size = batch_size)\n",
    "    \n",
    "    predict_training_input_func = lambda:my_input_func(training_examples,\n",
    "                                                       training_targets[\"median_house_value_is_high\"],\n",
    "                                                       num_epochs = 1,\n",
    "                                                       shuffle = False)\n",
    "    \n",
    "    predict_validation_input_func = lambda:my_input_func(validation_examples,\n",
    "                                                         validation_targets[\"median_house_value_is_high\"],\n",
    "                                                         num_epochs = 1,\n",
    "                                                         shuffle = False)\n",
    "    \n",
    "    #Train the model in a for loop to periodically asses loss metrics\n",
    "    print(\"Training model...\")\n",
    "    print(\"RMSE (on training data): \")\n",
    "    training_rmse = []\n",
    "    validation_rmse = []\n",
    "    \n",
    "    for period in range(0, periods):\n",
    "        \n",
    "        #train model starting from last state\n",
    "        linear_regressor.train(\n",
    "            input_fn = training_input_func,\n",
    "            steps = steps_per_period\n",
    "        )\n",
    "        \n",
    "        #compute predictions\n",
    "        training_predictions = linear_regressor.predict(input_fn = predict_training_input_func)\n",
    "        training_predictions = np.array([item['predictions'][0] for item in training_predictions])\n",
    "        \n",
    "        validation_predictions = linear_regressor.predict(input_fn = predict_validation_input_func)\n",
    "        validation_predictions = np.array([item['predictions'][0] for item in validation_predictions])\n",
    "        \n",
    "        #compute training and validation losses\n",
    "        training_root_mean_squared_error = math.sqrt(\n",
    "            metrics.mean_squared_error(training_predictions, training_targets))\n",
    "        \n",
    "        validation_root_mean_squared_error = math.sqrt(\n",
    "            metrics.mean_squared_error(validation_predictions, validation_targets))\n",
    "        \n",
    "        #occasionally print current loss\n",
    "        print(\" period %02d : %0.2f\" % (period, training_root_mean_squared_error))\n",
    "        \n",
    "        #add prior loss metrics to our lists\n",
    "        training_rmse.append(training_root_mean_squared_error)\n",
    "        validation_rmse.append(validation_root_mean_squared_error)\n",
    "        \n",
    "    print(\"Model Training complete\")\n",
    "    \n",
    "    #output graph of loss metrics\n",
    "    plt.ylabel(\"RMSE\")\n",
    "    plt.xlabel(\"Periods\")\n",
    "    plt.title(\"Root mean squared error vs. Periods\")\n",
    "    plt.tight_layout()\n",
    "    plt.plot(training_rmse, label = \"training\")\n",
    "    plt.plot(validation_rmse, label = \"validation\")\n",
    "    plt.legend()\n",
    "    \n",
    "    return linear_regressor"
   ]
  },
  {
   "cell_type": "markdown",
   "metadata": {},
   "source": [
    "Lets run a basic model below and see what we get as output"
   ]
  },
  {
   "cell_type": "code",
   "execution_count": 24,
   "metadata": {},
   "outputs": [
    {
     "name": "stdout",
     "output_type": "stream",
     "text": [
      "Training model...\n",
      "RMSE (on training data): \n",
      " period 00 : 0.50\n",
      " period 01 : 0.50\n",
      " period 02 : 1.52\n",
      " period 03 : 1.49\n",
      " period 04 : 1.51\n",
      " period 05 : 1.51\n",
      " period 06 : 1.55\n",
      " period 07 : 1.56\n",
      " period 08 : 1.56\n",
      " period 09 : 1.56\n",
      "Model Training complete\n"
     ]
    },
    {
     "data": {
      "image/png": "[encoded data removed]",
      "text/plain": [
       "<Figure size 432x288 with 1 Axes>"
      ]
     },
     "metadata": {
      "needs_background": "light"
     },
     "output_type": "display_data"
    }
   ],
   "source": [
    "linear_regressor = train_linear_regressor_model(\n",
    "    learning_rate = 0.0001,\n",
    "    steps = 100,\n",
    "    batch_size = 20,\n",
    "    training_examples = training_examples,\n",
    "    training_targets = training_targets,\n",
    "    validation_examples = validation_examples,\n",
    "    validation_targets = validation_targets)"
   ]
  },
  {
   "cell_type": "markdown",
   "metadata": {},
   "source": [
    "So, if RMSE comes out in the same units as our target variable, and our target variable is a probabilistic binary classifier, what does the training error above indicate? (Hint: Its sh!t) \n",
    "\n",
    "Also, take note that re-running the model leads to different convergence rates and vastly different RMSE (if you can even call it convergence at this point) which is a pretty good indicator that something isnt working as it should (i.e. model misspecification). \n",
    "\n",
    "Lets take a closer look at the validation predictions:"
   ]
  },
  {
   "cell_type": "code",
   "execution_count": 30,
   "metadata": {},
   "outputs": [
    {
     "data": {
      "text/plain": [
       "(array([3.823e+03, 9.640e+02, 1.430e+02, 3.900e+01, 1.400e+01, 1.000e+01,\n",
       "        3.000e+00, 1.000e+00, 1.000e+00, 2.000e+00]),\n",
       " array([ 0.04502177,  1.60666692,  3.16831207,  4.72995722,  6.29160237,\n",
       "         7.85324752,  9.41489267, 10.97653782, 12.53818297, 14.09982812,\n",
       "        15.66147327]),\n",
       " <a list of 10 Patch objects>)"
      ]
     },
     "execution_count": 30,
     "metadata": {},
     "output_type": "execute_result"
    },
    {
     "data": {
      "image/png": "[encoded data removed]",
      "text/plain": [
       "<Figure size 432x288 with 1 Axes>"
      ]
     },
     "metadata": {
      "needs_background": "light"
     },
     "output_type": "display_data"
    }
   ],
   "source": [
    "predict_validation_input_func = lambda: my_input_func(validation_examples,\n",
    "                                                      validation_targets[\"median_house_value_is_high\"],\n",
    "                                                      num_epochs = 1,\n",
    "                                                      shuffle = False)\n",
    "\n",
    "validation_predictions = linear_regressor.predict(input_fn = predict_validation_input_func)\n",
    "validation_predictions = np.array([item['predictions'][0] for item in validation_predictions])\n",
    "\n",
    "plt.hist(validation_predictions)\n"
   ]
  },
  {
   "cell_type": "markdown",
   "metadata": {},
   "source": [
    "So, we do end up making a fair few probabilistic predictions for our target $\\in(0,1)$ but since there are a fair number of observations above this range, using a linear regressor model ends up being a pretty terrible idea.\n",
    "\n",
    "A full discussion wont be discussed here but there are alot of awesome resources online that help explain why, just click [here](http://thestatsgeek.com/2015/01/17/why-shouldnt-i-use-linear-regression-if-my-outcome-is-binary/)"
   ]
  },
  {
   "cell_type": "markdown",
   "metadata": {},
   "source": [
    "### Lets move on..."
   ]
  },
  {
   "cell_type": "markdown",
   "metadata": {},
   "source": [
    "Alright, now lets actually correctly specify our classification model. Luckily, all we have to do is use LinearClassifier instead of LinearRegressor in our train model function. \n",
    "\n",
    "Another key distinction is that when running train() and predict() on a LinearClassifier model, we can access the probabilities predicted using the \"probabilities\" key in the returned dict of the model. We then pass this value to Sklearns log_loss function to expedite our model evaluation. "
   ]
  },
  {
   "cell_type": "code",
   "execution_count": 38,
   "metadata": {},
   "outputs": [],
   "source": [
    "\"\"\"This function trains a linear classification model of multiple features\n",
    "\n",
    "    Args:\n",
    "        learning_rate: A 'float', learning rate\n",
    "        steps: A non-zero 'int', total training steps taken (each step is forward\n",
    "            and backward pass using single batch)\n",
    "        batch_size: A non-zero 'int', the batch size\n",
    "        training_examples: A `DataFrame` containing one or more columns from\n",
    "            `california_housing_dataframe` to use as input features for training.\n",
    "        training_targets: A `DataFrame` containing exactly one column from\n",
    "            `california_housing_dataframe` to use as target for training.\n",
    "        validation_examples: A `DataFrame` containing one or more columns from\n",
    "            `california_housing_dataframe` to use as input features for validation.\n",
    "        validation_targets: A `DataFrame` containing exactly one column from\n",
    "            `california_housing_dataframe` to use as target for validation.\n",
    "            \n",
    "    Returns:\n",
    "        A LinearClassifier object trained on training data\n",
    "        Plots log loss value at each training period step \n",
    "\n",
    "\"\"\"\n",
    "def train_linear_classifier_model(learning_rate, steps, batch_size, training_examples,\n",
    "                                  training_targets,validation_examples,validation_targets):\n",
    "    \n",
    "    periods = 10\n",
    "    steps_per_period = steps / periods\n",
    "  \n",
    "    # Create a linear classifier object.\n",
    "    my_optimizer = tf.train.GradientDescentOptimizer(learning_rate=learning_rate)\n",
    "    my_optimizer = tf.contrib.estimator.clip_gradients_by_norm(my_optimizer, 5.0)\n",
    "    linear_classifier = tf.estimator.LinearClassifier(\n",
    "        feature_columns = construct_feature_columns(training_examples),\n",
    "        optimizer = my_optimizer\n",
    "    )\n",
    "  \n",
    "    # Create input functions.\n",
    "    training_input_func = lambda: my_input_func(training_examples, \n",
    "                                            training_targets[\"median_house_value_is_high\"], \n",
    "                                            batch_size=batch_size)\n",
    "    \n",
    "    predict_training_input_func = lambda: my_input_func(training_examples, \n",
    "                                                    training_targets[\"median_house_value_is_high\"], \n",
    "                                                    num_epochs=1, \n",
    "                                                    shuffle=False)\n",
    "\n",
    "    predict_validation_input_func = lambda: my_input_func(validation_examples, \n",
    "                                                      validation_targets[\"median_house_value_is_high\"], \n",
    "                                                      num_epochs=1, \n",
    "                                                      shuffle=False)\n",
    "  \n",
    "    # Train the model, but do so inside a loop so that we can periodically assess\n",
    "    # loss metrics.\n",
    "    print(\"Training model...\")\n",
    "    print(\"LogLoss (on training data):\")\n",
    "    \n",
    "    training_log_losses = []\n",
    "    validation_log_losses = []\n",
    "\n",
    "    for period in range (0, periods):\n",
    "        \n",
    "        # Train the model, starting from the prior state.\n",
    "        linear_classifier.train(\n",
    "            input_fn=training_input_func,\n",
    "            steps=steps_per_period\n",
    "        )\n",
    "    \n",
    "        # Take a break and compute predictions.    \n",
    "        training_probabilities = linear_classifier.predict(input_fn=predict_training_input_func)\n",
    "        training_probabilities = np.array([item['probabilities'] for item in training_probabilities])\n",
    "    \n",
    "        validation_probabilities = linear_classifier.predict(input_fn=predict_validation_input_func)\n",
    "        validation_probabilities = np.array([item['probabilities'] for item in validation_probabilities])\n",
    "    \n",
    "        #sklearn imported as metrics...\n",
    "        training_log_loss = metrics.log_loss(training_targets, training_probabilities)\n",
    "        validation_log_loss = metrics.log_loss(validation_targets, validation_probabilities)\n",
    "    \n",
    "        #print current loss every so often\n",
    "        print(\"  period %02d : %0.2f\" % (period, training_log_loss))\n",
    "    \n",
    "        #add loss metrics from current period to our lists\n",
    "        training_log_losses.append(training_log_loss)\n",
    "        validation_log_losses.append(validation_log_loss)\n",
    "        \n",
    "    print(\"Model training complete!\")\n",
    "    \n",
    "    #output graph of loss metrics\n",
    "    plt.ylabel(\"LogLoss\")\n",
    "    plt.xlabel(\"Periods\")\n",
    "    plt.title(\"LogLoss vs. Periods\")\n",
    "    plt.tight_layout()\n",
    "    plt.plot(training_log_losses, label = \"training\")\n",
    "    plt.plot(validation_log_losses, label = \"validation\")\n",
    "    plt.legend()\n",
    "    \n",
    "    return linear_classifier\n",
    "    "
   ]
  },
  {
   "cell_type": "code",
   "execution_count": 40,
   "metadata": {},
   "outputs": [
    {
     "name": "stdout",
     "output_type": "stream",
     "text": [
      "Training model...\n",
      "LogLoss (on training data):\n",
      "  period 00 : 0.60\n",
      "  period 01 : 0.58\n",
      "  period 02 : 0.57\n",
      "  period 03 : 0.55\n",
      "  period 04 : 0.54\n",
      "  period 05 : 0.54\n",
      "  period 06 : 0.54\n",
      "  period 07 : 0.53\n",
      "  period 08 : 0.53\n",
      "  period 09 : 0.53\n",
      "Model training complete!\n"
     ]
    },
    {
     "data": {
      "image/png": "[encoded data removed]",
      "text/plain": [
       "<Figure size 432x288 with 1 Axes>"
      ]
     },
     "metadata": {
      "needs_background": "light"
     },
     "output_type": "display_data"
    }
   ],
   "source": [
    "linear_classifier = train_linear_classifier_model(\n",
    "    learning_rate = 0.000005,\n",
    "    steps = 500,\n",
    "    batch_size = 20,\n",
    "    training_examples = training_examples,\n",
    "    training_targets = training_targets,\n",
    "    validation_examples = validation_examples,\n",
    "    validation_targets = validation_targets\n",
    ")\n"
   ]
  },
  {
   "cell_type": "markdown",
   "metadata": {},
   "source": [
    "So thats definitely alot better convergence and predictability wise. Lets take a look at a few metrics that will help us evaluate our model. These things are model accuracy, the Receiver Operating Characteristic (ROC) curve and and the area under ROC (AUC). "
   ]
  },
  {
   "cell_type": "markdown",
   "metadata": {},
   "source": [
    "### Evaluation"
   ]
  },
  {
   "cell_type": "code",
   "execution_count": 54,
   "metadata": {},
   "outputs": [
    {
     "name": "stdout",
     "output_type": "stream",
     "text": [
      "AUC on validation set: 0.73\n",
      "Accuracy on validation set: 0.75\n"
     ]
    }
   ],
   "source": [
    "evaluation_metrics = linear_classifier.evaluate(input_fn = predict_validation_input_func)\n",
    "\n",
    "print(\"AUC on validation set: %0.2f\" % evaluation_metrics['auc'])\n",
    "print(\"Accuracy on validation set: %0.2f\" % evaluation_metrics['accuracy'])"
   ]
  },
  {
   "cell_type": "markdown",
   "metadata": {},
   "source": [
    "1. Accuracy essentially measures the ratio of correctly predicted observations to total observations. So we definitely do better than random guessing. But lets take a closer look at the balance of our validation dataset"
   ]
  },
  {
   "cell_type": "code",
   "execution_count": 69,
   "metadata": {},
   "outputs": [
    {
     "data": {
      "text/plain": [
       "median_house_value_is_high\n",
       "0.0    3714\n",
       "1.0    1286\n",
       "dtype: int64"
      ]
     },
     "execution_count": 69,
     "metadata": {},
     "output_type": "execute_result"
    }
   ],
   "source": [
    "validation_targets.groupby('median_house_value_is_high').size()"
   ]
  },
  {
   "cell_type": "markdown",
   "metadata": {},
   "source": [
    "So, we have about 74% of our validation data as zeros and the remaining as 1. If we assigned every value in our validation set a 0, we would have gotten an accuracy pretty close to the accuracy our model produced. Clearly accuracy is necessary but not a sufficient metric to measure model specification.\n",
    "\n",
    "The ROC of our model essentially shows us the performance of the model at all classification thresholds. It does this by plotting the true positive rate against the false positive rate. \n",
    "\n",
    "The AUC measures the area under the curve of the ROC. An intuitive way to think about it is the probability the model ranks/predicts a random positive result (i.e. a 1) greater than a random negative result (a 0). An AUC of 0.5 indicates a random predictor so its definitely a good sign our AUC is much higher than this. "
   ]
  },
  {
   "cell_type": "code",
   "execution_count": 71,
   "metadata": {},
   "outputs": [
    {
     "data": {
      "image/png": "[encoded data removed]",
      "text/plain": [
       "<Figure size 432x288 with 1 Axes>"
      ]
     },
     "metadata": {
      "needs_background": "light"
     },
     "output_type": "display_data"
    }
   ],
   "source": [
    "validation_probabilities = linear_classifier.predict(input_fn=predict_validation_input_func)\n",
    "validation_probabilities = np.array([item['probabilities'][1] for item in validation_probabilities])\n",
    "\n",
    "false_positive_rate, true_positive_rate, thresholds = metrics.roc_curve(\n",
    "    validation_targets, validation_probabilities)\n",
    "plt.plot(false_positive_rate, true_positive_rate, label=\"our model\")\n",
    "plt.plot([0, 1], [0, 1], label=\"random classifier\")\n",
    "_ = plt.legend(loc=2)"
   ]
  },
  {
   "cell_type": "markdown",
   "metadata": {},
   "source": [
    "The ROC curve plotted above essentially tells the tradeoff between sensitivity and specificity. The closer the curve follows the left-handed border and then the top border indicates a higher accuracy of our model. \n"
   ]
  },
  {
   "cell_type": "markdown",
   "metadata": {},
   "source": [
    "### ROC, AUC and Binary Classification"
   ]
  },
  {
   "cell_type": "markdown",
   "metadata": {},
   "source": [
    "(Provide more in depth intuitive understanding of parameters above from notebook)"
   ]
  },
  {
   "cell_type": "markdown",
   "metadata": {},
   "source": [
    "Can we do any better? I leave it up to the reader to explore tuning hyperparameters to get a higher AUC... (Hint: remember what we are doing by training and how complexity changes with the number of steps and batch size!)"
   ]
  },
  {
   "cell_type": "code",
   "execution_count": null,
   "metadata": {},
   "outputs": [],
   "source": []
  }
 ],
 "metadata": {
  "kernelspec": {
   "display_name": "Python 2",
   "language": "python",
   "name": "python2"
  },
  "language_info": {
   "codemirror_mode": {
    "name": "ipython",
    "version": 2
   },
   "file_extension": ".py",
   "mimetype": "text/x-python",
   "name": "python",
   "nbconvert_exporter": "python",
   "pygments_lexer": "ipython2",
   "version": "2.7.15"
  }
 },
 "nbformat": 4,
 "nbformat_minor": 2
}
